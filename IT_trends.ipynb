{
 "cells": [
  {
   "cell_type": "code",
   "execution_count": 148,
   "metadata": {},
   "outputs": [],
   "source": [
    "import numpy as np\n",
    "import pandas as pd\n",
    "import matplotlib.pyplot as plt\n",
    "from sklearn.linear_model import LinearRegression\n",
    "from sklearn.model_selection import train_test_split\n",
    "from sklearn.metrics import r2_score, mean_squared_error\n",
    "import seaborn as sns\n",
    "%matplotlib inline\n",
    "\n",
    "#Download all necessary data\n",
    "df2014 = pd.read_csv('./developer_survey_2014/2014 Stack Overflow Survey Responses.csv', low_memory=False)\n",
    "df2015 = pd.read_csv('./developer_survey_2015/2015 Stack Overflow Developer Survey Responses.csv', header=1, low_memory=False)\n",
    "df2016 = pd.read_csv('./developer_survey_2016/2016 Stack Overflow Survey Responses.csv', low_memory=False)\n",
    "df2017 = pd.read_csv('./developer_survey_2017/survey_results_public.csv', low_memory=False)\n",
    "df2018 = pd.read_csv('./developer_survey_2018/survey_results_public.csv', low_memory=False)\n",
    "df2019 = pd.read_csv('./developer_survey_2019/survey_results_public.csv', low_memory=False)\n",
    "df2020 = pd.read_csv('./developer_survey_2020/survey_results_public.csv', low_memory=False)\n",
    "\n"
   ]
  },
  {
   "cell_type": "markdown",
   "metadata": {},
   "source": [
    "### Academic degree distribution among the respondents for 2017-2020\n",
    "The objective is to calculate the yearly percentage of people working in the field who belong to different educational levels."
   ]
  },
  {
   "cell_type": "code",
   "execution_count": 149,
   "metadata": {},
   "outputs": [
    {
     "name": "stdout",
     "output_type": "stream",
     "text": [
      "Bachelor's degree                                                    0.420474\n",
      "Master's degree                                                      0.216785\n",
      "Some college/university study without earning a bachelor's degree    0.158176\n",
      "Secondary school                                                     0.114960\n",
      "Doctoral degree                                                      0.025451\n",
      "I prefer not to answer                                               0.021579\n",
      "Primary/elementary school                                            0.020373\n",
      "Professional degree                                                  0.013913\n",
      "I never completed any formal education                               0.008289\n",
      "Name: 2017, dtype: float64\n"
     ]
    },
    {
     "data": {
      "text/plain": [
       "<matplotlib.axes._subplots.AxesSubplot at 0x1e78e7b76d0>"
      ]
     },
     "execution_count": 149,
     "metadata": {},
     "output_type": "execute_result"
    },
    {
     "data": {
      "image/png": "[encoded data removed]",
      "text/plain": [
       "<Figure size 432x288 with 1 Axes>"
      ]
     },
     "metadata": {
      "needs_background": "light"
     },
     "output_type": "display_data"
    }
   ],
   "source": [
    "df2017_cleared = df2017['FormalEducation'].dropna()\n",
    "df2017_cleared = df2017_cleared.value_counts()\n",
    "df2017_cleared = df2017_cleared/df2017_cleared.sum()\n",
    "df2017_cleared.name = '2017'\n",
    "print(df2017_cleared)\n",
    "\n",
    "df2017_cleared.plot(kind='bar')"
   ]
  },
  {
   "cell_type": "code",
   "execution_count": 150,
   "metadata": {},
   "outputs": [],
   "source": [
    "#Mapping to insure uniformity of data\n",
    "degree_mapping = {'Bachelor’s degree (BA, BS, B.Eng., etc.)': \"Bachelor's degree\",\n",
    "                 'Master’s degree (MA, MS, M.Eng., MBA, etc.)': \"Master's degree\",\n",
    "                 'Secondary school (e.g. American high school, German Realschule or Gymnasium, etc.)': 'Secondary school',\n",
    "                 'Associate degree (A.A., A.S., etc.)': 'Associate degree',\n",
    "                 'Other doctoral degree (Ph.D, Ed.D., etc.)': 'Doctoral degree',\n",
    "                 'Professional degree (JD, MD, etc.)': 'Professional degree', \n",
    "                 'Bachelor’s degree (B.A., B.S., B.Eng., etc.)': \"Bachelor's degree\",                                       \n",
    "                 'Master’s degree (M.A., M.S., M.Eng., MBA, etc.)': \"Master's degree\",                                          \n",
    "                 'Associate degree (A.A., A.S., etc.)': 'Associate degree',\n",
    "                 'Other doctoral degree (Ph.D., Ed.D., etc.)': 'Doctoral degree',\n",
    "                 'Some college/university study without earning a degree': \"Some college/university study without earning a bachelor's degree\"}"
   ]
  },
  {
   "cell_type": "code",
   "execution_count": 151,
   "metadata": {},
   "outputs": [
    {
     "name": "stdout",
     "output_type": "stream",
     "text": [
      "Bachelor's degree                                                    0.461010\n",
      "Master's degree                                                      0.225927\n",
      "Some college/university study without earning a bachelor's degree    0.123650\n",
      "Secondary school                                                     0.094517\n",
      "Associate degree                                                     0.031361\n",
      "Doctoral degree                                                      0.023378\n",
      "Primary/elementary school                                            0.017486\n",
      "Professional degree                                                  0.015279\n",
      "I never completed any formal education                               0.007392\n",
      "Name: 2018, dtype: float64\n"
     ]
    },
    {
     "data": {
      "text/plain": [
       "<matplotlib.axes._subplots.AxesSubplot at 0x1e784b5e3a0>"
      ]
     },
     "execution_count": 151,
     "metadata": {},
     "output_type": "execute_result"
    },
    {
     "data": {
      "image/png": "[encoded data removed]",
      "text/plain": [
       "<Figure size 432x288 with 1 Axes>"
      ]
     },
     "metadata": {
      "needs_background": "light"
     },
     "output_type": "display_data"
    }
   ],
   "source": [
    "df2018_cleared = df2018['FormalEducation'].dropna()\n",
    "df2018_cleared = df2018_cleared.value_counts()\n",
    "df2018_cleared = df2018_cleared/df2018_cleared.sum()\n",
    "df2018_cleared.rename(degree_mapping, inplace=True)\n",
    "df2018_cleared.name = '2018'\n",
    "print(df2018_cleared)\n",
    "\n",
    "df2018_cleared.plot(kind='bar')"
   ]
  },
  {
   "cell_type": "code",
   "execution_count": 152,
   "metadata": {},
   "outputs": [
    {
     "name": "stdout",
     "output_type": "stream",
     "text": [
      "Bachelor's degree                                                    0.452992\n",
      "Master's degree                                                      0.226519\n",
      "Some college/university study without earning a bachelor's degree    0.121565\n",
      "Secondary school                                                     0.100035\n",
      "Associate degree                                                     0.034009\n",
      "Doctoral degree                                                      0.028151\n",
      "Primary/elementary school                                            0.016460\n",
      "Professional degree                                                  0.013867\n",
      "I never completed any formal education                               0.006401\n",
      "Name: 2019, dtype: float64\n"
     ]
    },
    {
     "data": {
      "text/plain": [
       "<matplotlib.axes._subplots.AxesSubplot at 0x1e7912cc7c0>"
      ]
     },
     "execution_count": 152,
     "metadata": {},
     "output_type": "execute_result"
    },
    {
     "data": {
      "image/png": "[encoded data removed]",
      "text/plain": [
       "<Figure size 432x288 with 1 Axes>"
      ]
     },
     "metadata": {
      "needs_background": "light"
     },
     "output_type": "display_data"
    }
   ],
   "source": [
    "df2019_cleared = df2019['EdLevel'].dropna()\n",
    "df2019_cleared = df2019_cleared.value_counts()\n",
    "df2019_cleared = df2019_cleared/df2019_cleared.sum()\n",
    "df2019_cleared.rename(degree_mapping, inplace=True)\n",
    "df2019_cleared.name = '2019'\n",
    "print(df2019_cleared)\n",
    "\n",
    "df2019_cleared.plot(kind='bar')"
   ]
  },
  {
   "cell_type": "code",
   "execution_count": 153,
   "metadata": {},
   "outputs": [
    {
     "name": "stdout",
     "output_type": "stream",
     "text": [
      "Bachelor's degree                                                    0.462155\n",
      "Master's degree                                                      0.228309\n",
      "Some college/university study without earning a bachelor's degree    0.126047\n",
      "Secondary school                                                     0.083074\n",
      "Associate degree                                                     0.032091\n",
      "Doctoral degree                                                      0.029427\n",
      "Primary/elementary school                                            0.016385\n",
      "Professional degree                                                  0.013930\n",
      "I never completed any formal education                               0.008584\n",
      "Name: 2020, dtype: float64\n"
     ]
    },
    {
     "data": {
      "text/plain": [
       "<matplotlib.axes._subplots.AxesSubplot at 0x1e780102880>"
      ]
     },
     "execution_count": 153,
     "metadata": {},
     "output_type": "execute_result"
    },
    {
     "data": {
      "image/png": "[encoded data removed]",
      "text/plain": [
       "<Figure size 432x288 with 1 Axes>"
      ]
     },
     "metadata": {
      "needs_background": "light"
     },
     "output_type": "display_data"
    }
   ],
   "source": [
    "df2020_cleared = df2020['EdLevel'].dropna()\n",
    "df2020_cleared = df2020_cleared.value_counts()\n",
    "df2020_cleared = df2020_cleared/df2020_cleared.sum()\n",
    "df2020_cleared.rename(degree_mapping, inplace=True)\n",
    "df2020_cleared.name = '2020'\n",
    "print(df2020_cleared)\n",
    "\n",
    "df2020_cleared.plot(kind='bar')"
   ]
  },
  {
   "cell_type": "code",
   "execution_count": 154,
   "metadata": {
    "scrolled": false
   },
   "outputs": [
    {
     "data": {
      "text/plain": [
       "<matplotlib.axes._subplots.AxesSubplot at 0x1e78ad4d550>"
      ]
     },
     "execution_count": 154,
     "metadata": {},
     "output_type": "execute_result"
    },
    {
     "data": {
      "image/png": "[encoded data removed]",
      "text/plain": [
       "<Figure size 432x288 with 1 Axes>"
      ]
     },
     "metadata": {
      "needs_background": "light"
     },
     "output_type": "display_data"
    }
   ],
   "source": [
    "df = pd.concat([df2020_cleared, df2019_cleared, df2018_cleared, df2017_cleared], axis=1)\n",
    "df.plot(kind='bar')"
   ]
  },
  {
   "cell_type": "markdown",
   "metadata": {},
   "source": [
    "##### Conclusion:\n",
    "The distribution is almost identical for last 4 years."
   ]
  },
  {
   "cell_type": "markdown",
   "metadata": {},
   "source": [
    "### Salary changes 2014-2020\n",
    "The objective is to discover how the salaries of people working in IT changed in recent 7 years."
   ]
  },
  {
   "cell_type": "code",
   "execution_count": 155,
   "metadata": {},
   "outputs": [
    {
     "data": {
      "text/plain": [
       "{'$100,000 - $120,000',\n",
       " '$120,000 - $140,000',\n",
       " '$20,000 - $40,000',\n",
       " '$40,000 - $60,000',\n",
       " '$60,000 - $80,000',\n",
       " '$80,000 - $100,000',\n",
       " '<$20,000',\n",
       " '>$140,000',\n",
       " 'Rather not say',\n",
       " 'Response',\n",
       " 'Student / Unemployed',\n",
       " nan}"
      ]
     },
     "execution_count": 155,
     "metadata": {},
     "output_type": "execute_result"
    }
   ],
   "source": [
    "set(df2014['Including bonus, what is your annual compensation in USD?'].values)"
   ]
  },
  {
   "cell_type": "code",
   "execution_count": 156,
   "metadata": {},
   "outputs": [
    {
     "data": {
      "text/plain": [
       "60205.49426779148"
      ]
     },
     "execution_count": 156,
     "metadata": {},
     "output_type": "execute_result"
    }
   ],
   "source": [
    "def salary_convertor2014(sal):\n",
    "    '''\n",
    "        Performs convertion from salary ranges to mean values.\n",
    "        Non-numeric responses are mapped to NaN.\n",
    "        \n",
    "        INPUT - a pandas series with salary ranges\n",
    "    '''\n",
    "    if sal == '$100,000 - $120,000':\n",
    "        return 110000\n",
    "    if sal == '$120,000 - $140,000':\n",
    "        return 130000\n",
    "    if sal == '$20,000 - $40,000':\n",
    "        return 30000\n",
    "    if sal == '$40,000 - $60,000':\n",
    "        return 50000\n",
    "    if sal == '$60,000 - $80,000':\n",
    "        return 70000\n",
    "    if sal == '$80,000 - $100,000':\n",
    "        return 90000\n",
    "    if sal == '<$20,000':\n",
    "        return 10000\n",
    "    if sal == '>$140,000':\n",
    "        return 150000\n",
    "    if sal == 'Rather not say':\n",
    "        return np.nan\n",
    "    if sal == 'Response':\n",
    "        return np.nan\n",
    "    if sal == 'Student / Unemployed':\n",
    "        return np.nan\n",
    "\n",
    "sal2014 = df2014['Including bonus, what is your annual compensation in USD?']\n",
    "sal2014 = sal2014.map(salary_convertor2014, na_action='ignore').mean()\n",
    "sal2014"
   ]
  },
  {
   "cell_type": "code",
   "execution_count": 157,
   "metadata": {},
   "outputs": [
    {
     "data": {
      "text/plain": [
       "54652.35242646564"
      ]
     },
     "execution_count": 157,
     "metadata": {},
     "output_type": "execute_result"
    }
   ],
   "source": [
    "def salary_convertor2015(sal):\n",
    "    '''\n",
    "        Performs convertion from salary ranges to mean values.\n",
    "        Non-numeric responses are mapped to NaN.\n",
    "        \n",
    "        INPUT - a pandas series with salary ranges\n",
    "    '''\n",
    "    \n",
    "    if sal == 'Rather not say':\n",
    "        return np.nan\n",
    "    if sal == 'Unemployed':\n",
    "        return np.nan\n",
    "    else:\n",
    "        return int(sal)\n",
    "    \n",
    "    \n",
    "sal2015 = df2015['Compensation: midpoint'].map(salary_convertor2015, na_action='ignore').mean()\n",
    "sal2015"
   ]
  },
  {
   "cell_type": "code",
   "execution_count": 158,
   "metadata": {},
   "outputs": [],
   "source": [
    "sal2016 = df2016['salary_midpoint'].mean()"
   ]
  },
  {
   "cell_type": "code",
   "execution_count": 159,
   "metadata": {},
   "outputs": [],
   "source": [
    "sal2017 = df2017['Salary'].mean()"
   ]
  },
  {
   "cell_type": "code",
   "execution_count": 160,
   "metadata": {},
   "outputs": [],
   "source": [
    "sal2018 = df2018['ConvertedSalary'].mean()"
   ]
  },
  {
   "cell_type": "code",
   "execution_count": 161,
   "metadata": {},
   "outputs": [],
   "source": [
    "sal2019 = df2019['ConvertedComp'].mean()"
   ]
  },
  {
   "cell_type": "code",
   "execution_count": 162,
   "metadata": {},
   "outputs": [],
   "source": [
    "sal2020 = df2020['ConvertedComp'].mean()"
   ]
  },
  {
   "cell_type": "code",
   "execution_count": 163,
   "metadata": {},
   "outputs": [
    {
     "data": {
      "text/plain": [
       "2014     60205.494268\n",
       "2015     54652.352426\n",
       "2016     53952.973025\n",
       "2017     56298.480641\n",
       "2018     95780.861788\n",
       "2019    127110.738423\n",
       "2020    103756.050150\n",
       "dtype: float64"
      ]
     },
     "execution_count": 163,
     "metadata": {},
     "output_type": "execute_result"
    }
   ],
   "source": [
    "sal_df = pd.Series([sal2014, sal2015, sal2016, sal2017, sal2018, sal2019, sal2020], index=[2014, 2015, 2016, 2017, 2018, 2019, 2020])\n",
    "sal_df"
   ]
  },
  {
   "cell_type": "code",
   "execution_count": 164,
   "metadata": {},
   "outputs": [
    {
     "data": {
      "text/plain": [
       "<matplotlib.axes._subplots.AxesSubplot at 0x1e7800ef160>"
      ]
     },
     "execution_count": 164,
     "metadata": {},
     "output_type": "execute_result"
    },
    {
     "data": {
      "image/png": "[encoded data removed]",
      "text/plain": [
       "<Figure size 432x288 with 1 Axes>"
      ]
     },
     "metadata": {
      "needs_background": "light"
     },
     "output_type": "display_data"
    }
   ],
   "source": [
    "sal_df.plot(kind='bar')"
   ]
  },
  {
   "cell_type": "markdown",
   "metadata": {},
   "source": [
    "##### Conclusion:\n",
    "In the first 4 years the salaries were approximately on the same level. Starting from 2018, there is a major raise in salaries with it's peak in 2019."
   ]
  },
  {
   "cell_type": "markdown",
   "metadata": {},
   "source": [
    "### Languages popularity 2014-2020\n",
    "The objective is to discover which programming languages were popular in the last 7 years."
   ]
  },
  {
   "cell_type": "code",
   "execution_count": 165,
   "metadata": {},
   "outputs": [],
   "source": [
    "set_of_languages = {'C', 'C++', 'C++11', 'C#', 'Java', 'JavaScript', 'Objective-C', 'PHP', 'Python', 'Ruby', 'SQL',\n",
    "                    'CoffeeScript', 'Clojure', 'Dart', 'F#', 'Go', 'Haskell', 'Matlab', 'Perl', 'R', 'Rust', 'Scala', \n",
    "                    'Swift', 'Visual Basic', 'Other'}\n",
    "\n",
    "def filter_languages(ser, set_of_lang):\n",
    "    '''\n",
    "    INPUT\n",
    "        series - a pandas series which may contain languages and other tech\n",
    "        set_of_lang - a list of programming languages\n",
    "    OUTPUT\n",
    "        filtered_ser - a pandas series which contains only languages\n",
    "    '''\n",
    "    filtered_ser = ser\n",
    "    for idx in filtered_ser.index:\n",
    "        if idx not in set_of_lang:\n",
    "            filtered_ser.drop(idx, inplace=True)\n",
    "    return filtered_ser"
   ]
  },
  {
   "cell_type": "markdown",
   "metadata": {},
   "source": [
    "##### Languages 2014"
   ]
  },
  {
   "cell_type": "code",
   "execution_count": 166,
   "metadata": {},
   "outputs": [
    {
     "data": {
      "text/plain": [
       "C              1174\n",
       "C++            1418\n",
       "C#             2378\n",
       "Java           2479\n",
       "JavaScript     3783\n",
       "Objective-C     675\n",
       "PHP            1710\n",
       "Python         1473\n",
       "Ruby            593\n",
       "SQL            3467\n",
       "Other          1398\n",
       "Name: 2014, dtype: int64"
      ]
     },
     "execution_count": 166,
     "metadata": {},
     "output_type": "execute_result"
    }
   ],
   "source": [
    "lang2014 = df2014.loc[:,'Which of the following languages or technologies have you used significantly in the past year?':\n",
    "                        'Which technologies are you excited about?']\n",
    "lang2014 = lang2014.drop('Which technologies are you excited about?', axis=1)\n",
    "lang2014.columns = lang2014.iloc[0]\n",
    "lang2014 = lang2014.iloc[1:]\n",
    "lang2014 = lang2014.count()\n",
    "lang2014.name = 2014\n",
    "idx = lang2014.index\n",
    "new_idx = list(idx)\n",
    "new_idx[-1] = 'Other'\n",
    "lang2014.index = new_idx\n",
    "lang2014 = filter_languages(lang2014, set_of_languages) #List of languages included a framework so needed filtering\n",
    "lang2014\n"
   ]
  },
  {
   "cell_type": "markdown",
   "metadata": {},
   "source": [
    "##### Languages 2015"
   ]
  },
  {
   "cell_type": "code",
   "execution_count": 167,
   "metadata": {
    "scrolled": true
   },
   "outputs": [
    {
     "data": {
      "text/plain": [
       "C                3612\n",
       "C++              4529\n",
       "C++11            1851\n",
       "C#               6949\n",
       "CoffeeScript      783\n",
       "Clojure           176\n",
       "Dart              109\n",
       "F#                174\n",
       "Go                462\n",
       "Haskell           357\n",
       "Java             8219\n",
       "JavaScript      11962\n",
       "Matlab            860\n",
       "Objective-C      1719\n",
       "Perl              738\n",
       "PHP              6529\n",
       "Python           5238\n",
       "R                 755\n",
       "Ruby             1765\n",
       "Rust              103\n",
       "Scala             538\n",
       "SQL              9439\n",
       "Swift             759\n",
       "Visual Basic     1701\n",
       "Other            2148\n",
       "Name: 2015, dtype: int64"
      ]
     },
     "execution_count": 167,
     "metadata": {},
     "output_type": "execute_result"
    }
   ],
   "source": [
    "lang2015 = df2015.loc[:,'Current Lang & Tech: Android':'Current Lang & Tech: Write-In']\n",
    "lang2015 = lang2015.count()\n",
    "idx = list(lang2015.index) #Editing index to make it uniform with previous data\n",
    "for i in range(len(idx)):\n",
    "    colon_pos = idx[i].find(':')\n",
    "    idx[i] = idx[i][colon_pos+2:]\n",
    "idx[-1] = 'Other'\n",
    "lang2015.index = idx\n",
    "lang2015 = filter_languages(lang2015, set_of_languages) #List of languages included other technologies so needed filtering\n",
    "lang2015.name = '2015'\n",
    "lang2015"
   ]
  },
  {
   "cell_type": "markdown",
   "metadata": {},
   "source": [
    "##### Languages 2016"
   ]
  },
  {
   "cell_type": "code",
   "execution_count": 168,
   "metadata": {},
   "outputs": [
    {
     "data": {
      "text/plain": [
       "1                                       [iOS, Objective-C]\n",
       "6        [Android, Arduino / Raspberry Pi, AngularJS, C...\n",
       "7                        [JavaScript, PHP, SQL, WordPress]\n",
       "9                                                    [PHP]\n",
       "10       [Arduino / Raspberry Pi, C, C++, Java, JavaScr...\n",
       "                               ...                        \n",
       "56020                            [C++, JavaScript, Python]\n",
       "56022    [Arduino / Raspberry Pi, AngularJS, CoffeeScri...\n",
       "56024                     [Android, C, C++, C#, Java, SQL]\n",
       "56026     [Arduino / Raspberry Pi, C, Java, Python, Swift]\n",
       "56029    [Arduino / Raspberry Pi, AngularJS, JavaScript...\n",
       "Length: 49025, dtype: object"
      ]
     },
     "execution_count": 168,
     "metadata": {},
     "output_type": "execute_result"
    }
   ],
   "source": [
    "def separate_items(series, delimiter, dtype='object'):\n",
    "    '''\n",
    "    INPUT\n",
    "        series - a pandas series with values to separate\n",
    "        delimiter - a token that separates values\n",
    "        dtype - a dtype of values \n",
    "    OUTPUT\n",
    "        separated_ser - a pandas series with separated values\n",
    "    '''\n",
    "\n",
    "    separated_ser = pd.Series(np.nan, index=range(len(series)), dtype=dtype)\n",
    "    for i in range(len(separated_ser)):\n",
    "        if series[i] is not np.nan:\n",
    "            separated_ser[i] = series[i].split(delimiter)\n",
    "        else:\n",
    "            separated_ser[i] = series[i]\n",
    "    separated_ser.dropna(inplace=True)\n",
    "    return separated_ser\n",
    "\n",
    "            \n",
    "temp2016 = df2016['tech_do'] \n",
    "lang2016 = separate_items(temp2016, \"; \")\n",
    "lang2016"
   ]
  },
  {
   "cell_type": "code",
   "execution_count": 169,
   "metadata": {},
   "outputs": [
    {
     "data": {
      "text/plain": [
       "LAMP                              4821\n",
       "SQL Server                        9306\n",
       "SharePoint                         853\n",
       "Windows Phone                     1123\n",
       "C#                               15283\n",
       "CoffeeScript                      1662\n",
       "Objective-C                       3202\n",
       "Haskell                            813\n",
       "Cassandra                          663\n",
       "C                                 7678\n",
       "Spark                              707\n",
       "Salesforce                         665\n",
       "Redis                             2862\n",
       "Android                           8601\n",
       "Python                           12282\n",
       "Arduino / Raspberry Pi            3797\n",
       "WordPress                         4496\n",
       "Java                             17942\n",
       "Scala                             1602\n",
       "SQL                              21976\n",
       "Hadoop                            1012\n",
       "R                                 1632\n",
       "Ruby                              4383\n",
       "Matlab                            1602\n",
       "Dart                               222\n",
       "Go                                1547\n",
       "JavaScript                       27385\n",
       "F#                                 484\n",
       "iOS                               4498\n",
       "Cloud (AWS, GAE, Azure, etc.)     4629\n",
       "Rust                               436\n",
       "Visual Basic                      3312\n",
       "Clojure                            556\n",
       "PHP                              12780\n",
       "C++                               9589\n",
       "Cordova                           1651\n",
       "MongoDB                           4780\n",
       "Node.js                           8509\n",
       "Swift                             2746\n",
       "ReactJS                           2541\n",
       "AngularJS                         8823\n",
       "Perl                              1624\n",
       "dtype: int32"
      ]
     },
     "execution_count": 169,
     "metadata": {},
     "output_type": "execute_result"
    }
   ],
   "source": [
    "def count_values(series):\n",
    "    '''\n",
    "    INPUT\n",
    "        series - a pandas series with lists of objects\n",
    "    OUTPUT\n",
    "        possible_values - a set of all unique values in the given series\n",
    "    '''\n",
    "    possible_values = set()\n",
    "    for item in series.values:\n",
    "        possible_values = possible_values.union(set(item))\n",
    "\n",
    "    series_count = pd.Series(0, index=possible_values, dtype='int')\n",
    "    for item in series.values:\n",
    "        for lang in item:\n",
    "            series_count[lang] = series_count[lang] + 1\n",
    "    return series_count\n",
    "\n",
    "lang2016_count = count_values(lang2016)\n",
    "lang2016_count"
   ]
  },
  {
   "cell_type": "code",
   "execution_count": 170,
   "metadata": {},
   "outputs": [
    {
     "data": {
      "text/plain": [
       "C#              15283\n",
       "CoffeeScript     1662\n",
       "Objective-C      3202\n",
       "Haskell           813\n",
       "C                7678\n",
       "Python          12282\n",
       "Java            17942\n",
       "Scala            1602\n",
       "SQL             21976\n",
       "R                1632\n",
       "Ruby             4383\n",
       "Matlab           1602\n",
       "Dart              222\n",
       "Go               1547\n",
       "JavaScript      27385\n",
       "F#                484\n",
       "Rust              436\n",
       "Visual Basic     3312\n",
       "Clojure           556\n",
       "PHP             12780\n",
       "C++              9589\n",
       "Swift            2746\n",
       "Perl             1624\n",
       "Name: 2016, dtype: int32"
      ]
     },
     "execution_count": 170,
     "metadata": {},
     "output_type": "execute_result"
    }
   ],
   "source": [
    "#Some extra work to make data uniform\n",
    "\n",
    "lang2016 = lang2016_count\n",
    "lang2016 = filter_languages(lang2016, set_of_languages) #List of languages included other technologies so needed filtering\n",
    "lang2016.name = '2016'\n",
    "lang2016"
   ]
  },
  {
   "cell_type": "markdown",
   "metadata": {},
   "source": [
    "##### 2017 languages"
   ]
  },
  {
   "cell_type": "code",
   "execution_count": 171,
   "metadata": {},
   "outputs": [],
   "source": [
    "def assemble_list_of_technologies(df, fields, delim):\n",
    "    '''\n",
    "    INPUT\n",
    "        df - a dataframe from which to extract values\n",
    "        fields - a list of column names in df that denote languages, frameworks, databases, platforms and other\n",
    "        technologies worked with in the given year\n",
    "        delim - delimeter that separates values in each column\n",
    "    OUTPUT\n",
    "        result - a pandas series with languages, frameworks, databases and platforms as index and the count of users as values\n",
    "    '''\n",
    "\n",
    "    result = pd.Series(dtype='int')\n",
    "    \n",
    "    for field in fields:\n",
    "        tech = df[field]\n",
    "        tech = separate_items(tech, delim)\n",
    "        tech = count_values(tech)\n",
    "        result = result.append(tech)\n",
    "        \n",
    "    return result\n",
    "    \n",
    "   \n"
   ]
  },
  {
   "cell_type": "code",
   "execution_count": 172,
   "metadata": {},
   "outputs": [],
   "source": [
    "lang2017 = assemble_list_of_technologies(df2017, ['HaveWorkedLanguage'], \"; \")"
   ]
  },
  {
   "cell_type": "code",
   "execution_count": 173,
   "metadata": {
    "scrolled": true
   },
   "outputs": [
    {
     "data": {
      "text/plain": [
       "C#              12476\n",
       "CoffeeScript     1192\n",
       "Visual Basic     1071\n",
       "Julia             138\n",
       "Haskell           649\n",
       "Objective-C      2349\n",
       "VB.NET           2273\n",
       "C                6974\n",
       "Lua              1039\n",
       "Python          11704\n",
       "Elixir            380\n",
       "TypeScript       3488\n",
       "Groovy           1193\n",
       "Java            14524\n",
       "Erlang            281\n",
       "Scala            1309\n",
       "SQL             18754\n",
       "VBA              1574\n",
       "Ruby             3324\n",
       "R                1634\n",
       "Assembly         1823\n",
       "Matlab           1569\n",
       "Dart              145\n",
       "Go               1557\n",
       "JavaScript      22875\n",
       "F#                457\n",
       "Rust              416\n",
       "Clojure           391\n",
       "PHP             10290\n",
       "C++              8155\n",
       "Smalltalk         327\n",
       "Swift            2368\n",
       "Common Lisp       273\n",
       "Hack              107\n",
       "Perl             1585\n",
       "Name: 2017, dtype: int32"
      ]
     },
     "execution_count": 173,
     "metadata": {},
     "output_type": "execute_result"
    }
   ],
   "source": [
    "#Some extra work to make this data uniform with the previous years\n",
    "lang2017.rename({\"Visual Basic 6\": \"Visual Basic\"}, inplace=True)\n",
    "lang2017.name = 2017\n",
    "lang2017"
   ]
  },
  {
   "cell_type": "markdown",
   "metadata": {},
   "source": [
    "##### Languages 2018"
   ]
  },
  {
   "cell_type": "code",
   "execution_count": 174,
   "metadata": {},
   "outputs": [],
   "source": [
    "lang2018 = assemble_list_of_technologies(df2018, ['LanguageWorkedWith'], \";\")"
   ]
  },
  {
   "cell_type": "code",
   "execution_count": 175,
   "metadata": {},
   "outputs": [
    {
     "data": {
      "text/plain": [
       "CSS                     50979\n",
       "C#                      26954\n",
       "CoffeeScript             2603\n",
       "Ocaml                     470\n",
       "Julia                     430\n",
       "Visual Basic 6           3087\n",
       "Objective-C              5510\n",
       "VB.NET                   5254\n",
       "Haskell                  1961\n",
       "C                       18042\n",
       "Lua                      2733\n",
       "Delphi/Object Pascal     2025\n",
       "Python                  30359\n",
       "Kotlin                   3508\n",
       "TypeScript              13626\n",
       "Bash/Shell              31172\n",
       "Groovy                   3373\n",
       "Java                    35521\n",
       "Erlang                    886\n",
       "Scala                    3420\n",
       "SQL                     44670\n",
       "VBA                      3810\n",
       "R                        4813\n",
       "Ruby                     7911\n",
       "Assembly                 5760\n",
       "Matlab                   4564\n",
       "Go                       5532\n",
       "JavaScript              54686\n",
       "F#                       1115\n",
       "Rust                     1857\n",
       "Clojure                  1032\n",
       "PHP                     24071\n",
       "C++                     19872\n",
       "Cobol                     590\n",
       "Swift                    6310\n",
       "Hack                      254\n",
       "HTML                    53628\n",
       "Perl                     3280\n",
       "dtype: int32"
      ]
     },
     "execution_count": 175,
     "metadata": {},
     "output_type": "execute_result"
    }
   ],
   "source": [
    "lang2018"
   ]
  },
  {
   "cell_type": "code",
   "execution_count": 176,
   "metadata": {},
   "outputs": [
    {
     "data": {
      "text/plain": [
       "C#                       26954\n",
       "CoffeeScript              2603\n",
       "Ocaml                      470\n",
       "Julia                      430\n",
       "Visual Basic              3087\n",
       "Objective-C               5510\n",
       "VB.NET                    5254\n",
       "Haskell                   1961\n",
       "C                        18042\n",
       "Lua                       2733\n",
       "Delphi/Object Pascal      2025\n",
       "Python                   30359\n",
       "Kotlin                    3508\n",
       "TypeScript               13626\n",
       "Bash/Shell               31172\n",
       "Groovy                    3373\n",
       "Java                     35521\n",
       "Erlang                     886\n",
       "Scala                     3420\n",
       "SQL                      44670\n",
       "VBA                       3810\n",
       "R                         4813\n",
       "Ruby                      7911\n",
       "Assembly                  5760\n",
       "Matlab                    4564\n",
       "Go                        5532\n",
       "JavaScript               54686\n",
       "F#                        1115\n",
       "Rust                      1857\n",
       "Clojure                   1032\n",
       "PHP                      24071\n",
       "C++                      19872\n",
       "Cobol                      590\n",
       "Swift                     6310\n",
       "Hack                       254\n",
       "HTML/CSS                104607\n",
       "Perl                      3280\n",
       "Name: 2018, dtype: int32"
      ]
     },
     "execution_count": 176,
     "metadata": {},
     "output_type": "execute_result"
    }
   ],
   "source": [
    "#Some extra work to make this data uniform with the previous years\n",
    "lang2018['HTML'] = lang2018['HTML'] + lang2018['CSS']\n",
    "lang2018.drop('CSS', inplace=True)\n",
    "lang2018.rename({\"Visual Basic 6\": \"Visual Basic\"}, inplace=True)\n",
    "lang2018.rename({\"HTML\": \"HTML/CSS\"}, inplace=True)\n",
    "lang2018.name = 2018\n",
    "lang2018"
   ]
  },
  {
   "cell_type": "markdown",
   "metadata": {},
   "source": [
    "##### Languages 2019"
   ]
  },
  {
   "cell_type": "code",
   "execution_count": 177,
   "metadata": {},
   "outputs": [],
   "source": [
    "lang2019 = assemble_list_of_technologies(df2019, ['LanguageWorkedWith'], \";\")"
   ]
  },
  {
   "cell_type": "code",
   "execution_count": 178,
   "metadata": {},
   "outputs": [
    {
     "data": {
      "text/plain": [
       "Java                     35917\n",
       "VBA                       4781\n",
       "Erlang                     777\n",
       "SQL                      47544\n",
       "Bash/Shell/PowerShell    31991\n",
       "Scala                     3309\n",
       "R                         5048\n",
       "Ruby                      7331\n",
       "Assembly                  5833\n",
       "Dart                      1683\n",
       "Go                        7201\n",
       "JavaScript               59219\n",
       "C#                       27097\n",
       "F#                         973\n",
       "Rust                      2794\n",
       "WebAssembly               1015\n",
       "Objective-C               4191\n",
       "Clojure                   1254\n",
       "C                        18017\n",
       "PHP                      23030\n",
       "C++                      20524\n",
       "Swift                     5744\n",
       "Other(s):                 7920\n",
       "Python                   36443\n",
       "HTML/CSS                 55466\n",
       "Kotlin                    5620\n",
       "Elixir                    1260\n",
       "TypeScript               18523\n",
       "dtype: int32"
      ]
     },
     "execution_count": 178,
     "metadata": {},
     "output_type": "execute_result"
    }
   ],
   "source": [
    "lang2019"
   ]
  },
  {
   "cell_type": "code",
   "execution_count": 179,
   "metadata": {},
   "outputs": [
    {
     "data": {
      "text/plain": [
       "Java           35917\n",
       "VBA             4781\n",
       "Erlang           777\n",
       "SQL            47544\n",
       "Bash/Shell     31991\n",
       "Scala           3309\n",
       "R               5048\n",
       "Ruby            7331\n",
       "Assembly        5833\n",
       "Dart            1683\n",
       "Go              7201\n",
       "JavaScript     59219\n",
       "C#             27097\n",
       "F#               973\n",
       "Rust            2794\n",
       "WebAssembly     1015\n",
       "Objective-C     4191\n",
       "Clojure         1254\n",
       "C              18017\n",
       "PHP            23030\n",
       "C++            20524\n",
       "Swift           5744\n",
       "Other           7920\n",
       "Python         36443\n",
       "HTML/CSS       55466\n",
       "Kotlin          5620\n",
       "Elixir          1260\n",
       "TypeScript     18523\n",
       "Name: 2019, dtype: int32"
      ]
     },
     "execution_count": 179,
     "metadata": {},
     "output_type": "execute_result"
    }
   ],
   "source": [
    "#Some extra work to make this data uniform with the previous years\n",
    "lang2019.rename({\"Other(s):\": \"Other\"}, inplace=True)\n",
    "lang2019.rename({\"Bash/Shell/PowerShell\": \"Bash/Shell\"}, inplace=True)\n",
    "lang2019.name = 2019\n",
    "lang2019"
   ]
  },
  {
   "cell_type": "markdown",
   "metadata": {},
   "source": [
    "##### Languages 2020"
   ]
  },
  {
   "cell_type": "code",
   "execution_count": 180,
   "metadata": {},
   "outputs": [],
   "source": [
    "lang2020 = assemble_list_of_technologies(df2020, ['LanguageWorkedWith'], \";\")"
   ]
  },
  {
   "cell_type": "code",
   "execution_count": 181,
   "metadata": {},
   "outputs": [
    {
     "data": {
      "text/plain": [
       "Java           23074\n",
       "VBA             3499\n",
       "Scala           2052\n",
       "SQL            31413\n",
       "Bash/Shell     18980\n",
       "Ruby            4046\n",
       "R               3288\n",
       "Assembly        3553\n",
       "Dart            2280\n",
       "Go              5038\n",
       "JavaScript     38822\n",
       "C#             18041\n",
       "Julia            519\n",
       "Rust            2929\n",
       "Objective-C     2340\n",
       "Haskell         1222\n",
       "C              12487\n",
       "PHP            15007\n",
       "C++            13707\n",
       "Swift           3397\n",
       "Python         25287\n",
       "HTML/CSS       36181\n",
       "Kotlin          4468\n",
       "TypeScript     14578\n",
       "Perl            1796\n",
       "Name: 2020, dtype: int32"
      ]
     },
     "execution_count": 181,
     "metadata": {},
     "output_type": "execute_result"
    }
   ],
   "source": [
    "lang2020.rename({\"Bash/Shell/PowerShell\": \"Bash/Shell\"}, inplace=True)\n",
    "lang2020.name = 2020\n",
    "lang2020"
   ]
  },
  {
   "cell_type": "markdown",
   "metadata": {},
   "source": [
    "##### Putting all together"
   ]
  },
  {
   "cell_type": "code",
   "execution_count": 182,
   "metadata": {},
   "outputs": [],
   "source": [
    "lang_over_years = pd.concat([lang2014, lang2015, lang2016, lang2017, lang2018, lang2019, lang2020], axis=1)\n",
    "lang_over_years.fillna(0, inplace=True)"
   ]
  },
  {
   "cell_type": "code",
   "execution_count": 183,
   "metadata": {},
   "outputs": [
    {
     "data": {
      "text/html": [
       "<div>\n",
       "<style scoped>\n",
       "    .dataframe tbody tr th:only-of-type {\n",
       "        vertical-align: middle;\n",
       "    }\n",
       "\n",
       "    .dataframe tbody tr th {\n",
       "        vertical-align: top;\n",
       "    }\n",
       "\n",
       "    .dataframe thead th {\n",
       "        text-align: right;\n",
       "    }\n",
       "</style>\n",
       "<table border=\"1\" class=\"dataframe\">\n",
       "  <thead>\n",
       "    <tr style=\"text-align: right;\">\n",
       "      <th></th>\n",
       "      <th>2014</th>\n",
       "      <th>2015</th>\n",
       "      <th>2016</th>\n",
       "      <th>2017</th>\n",
       "      <th>2018</th>\n",
       "      <th>2019</th>\n",
       "      <th>2020</th>\n",
       "    </tr>\n",
       "  </thead>\n",
       "  <tbody>\n",
       "    <tr>\n",
       "      <th>C</th>\n",
       "      <td>1174.0</td>\n",
       "      <td>3612.0</td>\n",
       "      <td>7678.0</td>\n",
       "      <td>6974.0</td>\n",
       "      <td>18042.0</td>\n",
       "      <td>18017.0</td>\n",
       "      <td>12487.0</td>\n",
       "    </tr>\n",
       "    <tr>\n",
       "      <th>C++</th>\n",
       "      <td>1418.0</td>\n",
       "      <td>4529.0</td>\n",
       "      <td>9589.0</td>\n",
       "      <td>8155.0</td>\n",
       "      <td>19872.0</td>\n",
       "      <td>20524.0</td>\n",
       "      <td>13707.0</td>\n",
       "    </tr>\n",
       "    <tr>\n",
       "      <th>C#</th>\n",
       "      <td>2378.0</td>\n",
       "      <td>6949.0</td>\n",
       "      <td>15283.0</td>\n",
       "      <td>12476.0</td>\n",
       "      <td>26954.0</td>\n",
       "      <td>27097.0</td>\n",
       "      <td>18041.0</td>\n",
       "    </tr>\n",
       "    <tr>\n",
       "      <th>Java</th>\n",
       "      <td>2479.0</td>\n",
       "      <td>8219.0</td>\n",
       "      <td>17942.0</td>\n",
       "      <td>14524.0</td>\n",
       "      <td>35521.0</td>\n",
       "      <td>35917.0</td>\n",
       "      <td>23074.0</td>\n",
       "    </tr>\n",
       "    <tr>\n",
       "      <th>JavaScript</th>\n",
       "      <td>3783.0</td>\n",
       "      <td>11962.0</td>\n",
       "      <td>27385.0</td>\n",
       "      <td>22875.0</td>\n",
       "      <td>54686.0</td>\n",
       "      <td>59219.0</td>\n",
       "      <td>38822.0</td>\n",
       "    </tr>\n",
       "    <tr>\n",
       "      <th>Objective-C</th>\n",
       "      <td>675.0</td>\n",
       "      <td>1719.0</td>\n",
       "      <td>3202.0</td>\n",
       "      <td>2349.0</td>\n",
       "      <td>5510.0</td>\n",
       "      <td>4191.0</td>\n",
       "      <td>2340.0</td>\n",
       "    </tr>\n",
       "    <tr>\n",
       "      <th>PHP</th>\n",
       "      <td>1710.0</td>\n",
       "      <td>6529.0</td>\n",
       "      <td>12780.0</td>\n",
       "      <td>10290.0</td>\n",
       "      <td>24071.0</td>\n",
       "      <td>23030.0</td>\n",
       "      <td>15007.0</td>\n",
       "    </tr>\n",
       "    <tr>\n",
       "      <th>Python</th>\n",
       "      <td>1473.0</td>\n",
       "      <td>5238.0</td>\n",
       "      <td>12282.0</td>\n",
       "      <td>11704.0</td>\n",
       "      <td>30359.0</td>\n",
       "      <td>36443.0</td>\n",
       "      <td>25287.0</td>\n",
       "    </tr>\n",
       "    <tr>\n",
       "      <th>Ruby</th>\n",
       "      <td>593.0</td>\n",
       "      <td>1765.0</td>\n",
       "      <td>4383.0</td>\n",
       "      <td>3324.0</td>\n",
       "      <td>7911.0</td>\n",
       "      <td>7331.0</td>\n",
       "      <td>4046.0</td>\n",
       "    </tr>\n",
       "    <tr>\n",
       "      <th>SQL</th>\n",
       "      <td>3467.0</td>\n",
       "      <td>9439.0</td>\n",
       "      <td>21976.0</td>\n",
       "      <td>18754.0</td>\n",
       "      <td>44670.0</td>\n",
       "      <td>47544.0</td>\n",
       "      <td>31413.0</td>\n",
       "    </tr>\n",
       "    <tr>\n",
       "      <th>Other</th>\n",
       "      <td>1398.0</td>\n",
       "      <td>2148.0</td>\n",
       "      <td>0.0</td>\n",
       "      <td>0.0</td>\n",
       "      <td>0.0</td>\n",
       "      <td>7920.0</td>\n",
       "      <td>0.0</td>\n",
       "    </tr>\n",
       "    <tr>\n",
       "      <th>C++11</th>\n",
       "      <td>0.0</td>\n",
       "      <td>1851.0</td>\n",
       "      <td>0.0</td>\n",
       "      <td>0.0</td>\n",
       "      <td>0.0</td>\n",
       "      <td>0.0</td>\n",
       "      <td>0.0</td>\n",
       "    </tr>\n",
       "    <tr>\n",
       "      <th>CoffeeScript</th>\n",
       "      <td>0.0</td>\n",
       "      <td>783.0</td>\n",
       "      <td>1662.0</td>\n",
       "      <td>1192.0</td>\n",
       "      <td>2603.0</td>\n",
       "      <td>0.0</td>\n",
       "      <td>0.0</td>\n",
       "    </tr>\n",
       "    <tr>\n",
       "      <th>Clojure</th>\n",
       "      <td>0.0</td>\n",
       "      <td>176.0</td>\n",
       "      <td>556.0</td>\n",
       "      <td>391.0</td>\n",
       "      <td>1032.0</td>\n",
       "      <td>1254.0</td>\n",
       "      <td>0.0</td>\n",
       "    </tr>\n",
       "    <tr>\n",
       "      <th>Dart</th>\n",
       "      <td>0.0</td>\n",
       "      <td>109.0</td>\n",
       "      <td>222.0</td>\n",
       "      <td>145.0</td>\n",
       "      <td>0.0</td>\n",
       "      <td>1683.0</td>\n",
       "      <td>2280.0</td>\n",
       "    </tr>\n",
       "    <tr>\n",
       "      <th>F#</th>\n",
       "      <td>0.0</td>\n",
       "      <td>174.0</td>\n",
       "      <td>484.0</td>\n",
       "      <td>457.0</td>\n",
       "      <td>1115.0</td>\n",
       "      <td>973.0</td>\n",
       "      <td>0.0</td>\n",
       "    </tr>\n",
       "    <tr>\n",
       "      <th>Go</th>\n",
       "      <td>0.0</td>\n",
       "      <td>462.0</td>\n",
       "      <td>1547.0</td>\n",
       "      <td>1557.0</td>\n",
       "      <td>5532.0</td>\n",
       "      <td>7201.0</td>\n",
       "      <td>5038.0</td>\n",
       "    </tr>\n",
       "    <tr>\n",
       "      <th>Haskell</th>\n",
       "      <td>0.0</td>\n",
       "      <td>357.0</td>\n",
       "      <td>813.0</td>\n",
       "      <td>649.0</td>\n",
       "      <td>1961.0</td>\n",
       "      <td>0.0</td>\n",
       "      <td>1222.0</td>\n",
       "    </tr>\n",
       "    <tr>\n",
       "      <th>Matlab</th>\n",
       "      <td>0.0</td>\n",
       "      <td>860.0</td>\n",
       "      <td>1602.0</td>\n",
       "      <td>1569.0</td>\n",
       "      <td>4564.0</td>\n",
       "      <td>0.0</td>\n",
       "      <td>0.0</td>\n",
       "    </tr>\n",
       "    <tr>\n",
       "      <th>Perl</th>\n",
       "      <td>0.0</td>\n",
       "      <td>738.0</td>\n",
       "      <td>1624.0</td>\n",
       "      <td>1585.0</td>\n",
       "      <td>3280.0</td>\n",
       "      <td>0.0</td>\n",
       "      <td>1796.0</td>\n",
       "    </tr>\n",
       "    <tr>\n",
       "      <th>R</th>\n",
       "      <td>0.0</td>\n",
       "      <td>755.0</td>\n",
       "      <td>1632.0</td>\n",
       "      <td>1634.0</td>\n",
       "      <td>4813.0</td>\n",
       "      <td>5048.0</td>\n",
       "      <td>3288.0</td>\n",
       "    </tr>\n",
       "    <tr>\n",
       "      <th>Rust</th>\n",
       "      <td>0.0</td>\n",
       "      <td>103.0</td>\n",
       "      <td>436.0</td>\n",
       "      <td>416.0</td>\n",
       "      <td>1857.0</td>\n",
       "      <td>2794.0</td>\n",
       "      <td>2929.0</td>\n",
       "    </tr>\n",
       "    <tr>\n",
       "      <th>Scala</th>\n",
       "      <td>0.0</td>\n",
       "      <td>538.0</td>\n",
       "      <td>1602.0</td>\n",
       "      <td>1309.0</td>\n",
       "      <td>3420.0</td>\n",
       "      <td>3309.0</td>\n",
       "      <td>2052.0</td>\n",
       "    </tr>\n",
       "    <tr>\n",
       "      <th>Swift</th>\n",
       "      <td>0.0</td>\n",
       "      <td>759.0</td>\n",
       "      <td>2746.0</td>\n",
       "      <td>2368.0</td>\n",
       "      <td>6310.0</td>\n",
       "      <td>5744.0</td>\n",
       "      <td>3397.0</td>\n",
       "    </tr>\n",
       "    <tr>\n",
       "      <th>Visual Basic</th>\n",
       "      <td>0.0</td>\n",
       "      <td>1701.0</td>\n",
       "      <td>3312.0</td>\n",
       "      <td>1071.0</td>\n",
       "      <td>3087.0</td>\n",
       "      <td>0.0</td>\n",
       "      <td>0.0</td>\n",
       "    </tr>\n",
       "    <tr>\n",
       "      <th>Julia</th>\n",
       "      <td>0.0</td>\n",
       "      <td>0.0</td>\n",
       "      <td>0.0</td>\n",
       "      <td>138.0</td>\n",
       "      <td>430.0</td>\n",
       "      <td>0.0</td>\n",
       "      <td>519.0</td>\n",
       "    </tr>\n",
       "    <tr>\n",
       "      <th>VB.NET</th>\n",
       "      <td>0.0</td>\n",
       "      <td>0.0</td>\n",
       "      <td>0.0</td>\n",
       "      <td>2273.0</td>\n",
       "      <td>5254.0</td>\n",
       "      <td>0.0</td>\n",
       "      <td>0.0</td>\n",
       "    </tr>\n",
       "    <tr>\n",
       "      <th>Lua</th>\n",
       "      <td>0.0</td>\n",
       "      <td>0.0</td>\n",
       "      <td>0.0</td>\n",
       "      <td>1039.0</td>\n",
       "      <td>2733.0</td>\n",
       "      <td>0.0</td>\n",
       "      <td>0.0</td>\n",
       "    </tr>\n",
       "    <tr>\n",
       "      <th>Elixir</th>\n",
       "      <td>0.0</td>\n",
       "      <td>0.0</td>\n",
       "      <td>0.0</td>\n",
       "      <td>380.0</td>\n",
       "      <td>0.0</td>\n",
       "      <td>1260.0</td>\n",
       "      <td>0.0</td>\n",
       "    </tr>\n",
       "    <tr>\n",
       "      <th>TypeScript</th>\n",
       "      <td>0.0</td>\n",
       "      <td>0.0</td>\n",
       "      <td>0.0</td>\n",
       "      <td>3488.0</td>\n",
       "      <td>13626.0</td>\n",
       "      <td>18523.0</td>\n",
       "      <td>14578.0</td>\n",
       "    </tr>\n",
       "    <tr>\n",
       "      <th>Groovy</th>\n",
       "      <td>0.0</td>\n",
       "      <td>0.0</td>\n",
       "      <td>0.0</td>\n",
       "      <td>1193.0</td>\n",
       "      <td>3373.0</td>\n",
       "      <td>0.0</td>\n",
       "      <td>0.0</td>\n",
       "    </tr>\n",
       "    <tr>\n",
       "      <th>Erlang</th>\n",
       "      <td>0.0</td>\n",
       "      <td>0.0</td>\n",
       "      <td>0.0</td>\n",
       "      <td>281.0</td>\n",
       "      <td>886.0</td>\n",
       "      <td>777.0</td>\n",
       "      <td>0.0</td>\n",
       "    </tr>\n",
       "    <tr>\n",
       "      <th>VBA</th>\n",
       "      <td>0.0</td>\n",
       "      <td>0.0</td>\n",
       "      <td>0.0</td>\n",
       "      <td>1574.0</td>\n",
       "      <td>3810.0</td>\n",
       "      <td>4781.0</td>\n",
       "      <td>3499.0</td>\n",
       "    </tr>\n",
       "    <tr>\n",
       "      <th>Assembly</th>\n",
       "      <td>0.0</td>\n",
       "      <td>0.0</td>\n",
       "      <td>0.0</td>\n",
       "      <td>1823.0</td>\n",
       "      <td>5760.0</td>\n",
       "      <td>5833.0</td>\n",
       "      <td>3553.0</td>\n",
       "    </tr>\n",
       "    <tr>\n",
       "      <th>Smalltalk</th>\n",
       "      <td>0.0</td>\n",
       "      <td>0.0</td>\n",
       "      <td>0.0</td>\n",
       "      <td>327.0</td>\n",
       "      <td>0.0</td>\n",
       "      <td>0.0</td>\n",
       "      <td>0.0</td>\n",
       "    </tr>\n",
       "    <tr>\n",
       "      <th>Common Lisp</th>\n",
       "      <td>0.0</td>\n",
       "      <td>0.0</td>\n",
       "      <td>0.0</td>\n",
       "      <td>273.0</td>\n",
       "      <td>0.0</td>\n",
       "      <td>0.0</td>\n",
       "      <td>0.0</td>\n",
       "    </tr>\n",
       "    <tr>\n",
       "      <th>Hack</th>\n",
       "      <td>0.0</td>\n",
       "      <td>0.0</td>\n",
       "      <td>0.0</td>\n",
       "      <td>107.0</td>\n",
       "      <td>254.0</td>\n",
       "      <td>0.0</td>\n",
       "      <td>0.0</td>\n",
       "    </tr>\n",
       "    <tr>\n",
       "      <th>Ocaml</th>\n",
       "      <td>0.0</td>\n",
       "      <td>0.0</td>\n",
       "      <td>0.0</td>\n",
       "      <td>0.0</td>\n",
       "      <td>470.0</td>\n",
       "      <td>0.0</td>\n",
       "      <td>0.0</td>\n",
       "    </tr>\n",
       "    <tr>\n",
       "      <th>Delphi/Object Pascal</th>\n",
       "      <td>0.0</td>\n",
       "      <td>0.0</td>\n",
       "      <td>0.0</td>\n",
       "      <td>0.0</td>\n",
       "      <td>2025.0</td>\n",
       "      <td>0.0</td>\n",
       "      <td>0.0</td>\n",
       "    </tr>\n",
       "    <tr>\n",
       "      <th>Kotlin</th>\n",
       "      <td>0.0</td>\n",
       "      <td>0.0</td>\n",
       "      <td>0.0</td>\n",
       "      <td>0.0</td>\n",
       "      <td>3508.0</td>\n",
       "      <td>5620.0</td>\n",
       "      <td>4468.0</td>\n",
       "    </tr>\n",
       "    <tr>\n",
       "      <th>Bash/Shell</th>\n",
       "      <td>0.0</td>\n",
       "      <td>0.0</td>\n",
       "      <td>0.0</td>\n",
       "      <td>0.0</td>\n",
       "      <td>31172.0</td>\n",
       "      <td>31991.0</td>\n",
       "      <td>18980.0</td>\n",
       "    </tr>\n",
       "    <tr>\n",
       "      <th>Cobol</th>\n",
       "      <td>0.0</td>\n",
       "      <td>0.0</td>\n",
       "      <td>0.0</td>\n",
       "      <td>0.0</td>\n",
       "      <td>590.0</td>\n",
       "      <td>0.0</td>\n",
       "      <td>0.0</td>\n",
       "    </tr>\n",
       "    <tr>\n",
       "      <th>HTML/CSS</th>\n",
       "      <td>0.0</td>\n",
       "      <td>0.0</td>\n",
       "      <td>0.0</td>\n",
       "      <td>0.0</td>\n",
       "      <td>104607.0</td>\n",
       "      <td>55466.0</td>\n",
       "      <td>36181.0</td>\n",
       "    </tr>\n",
       "    <tr>\n",
       "      <th>WebAssembly</th>\n",
       "      <td>0.0</td>\n",
       "      <td>0.0</td>\n",
       "      <td>0.0</td>\n",
       "      <td>0.0</td>\n",
       "      <td>0.0</td>\n",
       "      <td>1015.0</td>\n",
       "      <td>0.0</td>\n",
       "    </tr>\n",
       "  </tbody>\n",
       "</table>\n",
       "</div>"
      ],
      "text/plain": [
       "                        2014     2015     2016     2017      2018     2019  \\\n",
       "C                     1174.0   3612.0   7678.0   6974.0   18042.0  18017.0   \n",
       "C++                   1418.0   4529.0   9589.0   8155.0   19872.0  20524.0   \n",
       "C#                    2378.0   6949.0  15283.0  12476.0   26954.0  27097.0   \n",
       "Java                  2479.0   8219.0  17942.0  14524.0   35521.0  35917.0   \n",
       "JavaScript            3783.0  11962.0  27385.0  22875.0   54686.0  59219.0   \n",
       "Objective-C            675.0   1719.0   3202.0   2349.0    5510.0   4191.0   \n",
       "PHP                   1710.0   6529.0  12780.0  10290.0   24071.0  23030.0   \n",
       "Python                1473.0   5238.0  12282.0  11704.0   30359.0  36443.0   \n",
       "Ruby                   593.0   1765.0   4383.0   3324.0    7911.0   7331.0   \n",
       "SQL                   3467.0   9439.0  21976.0  18754.0   44670.0  47544.0   \n",
       "Other                 1398.0   2148.0      0.0      0.0       0.0   7920.0   \n",
       "C++11                    0.0   1851.0      0.0      0.0       0.0      0.0   \n",
       "CoffeeScript             0.0    783.0   1662.0   1192.0    2603.0      0.0   \n",
       "Clojure                  0.0    176.0    556.0    391.0    1032.0   1254.0   \n",
       "Dart                     0.0    109.0    222.0    145.0       0.0   1683.0   \n",
       "F#                       0.0    174.0    484.0    457.0    1115.0    973.0   \n",
       "Go                       0.0    462.0   1547.0   1557.0    5532.0   7201.0   \n",
       "Haskell                  0.0    357.0    813.0    649.0    1961.0      0.0   \n",
       "Matlab                   0.0    860.0   1602.0   1569.0    4564.0      0.0   \n",
       "Perl                     0.0    738.0   1624.0   1585.0    3280.0      0.0   \n",
       "R                        0.0    755.0   1632.0   1634.0    4813.0   5048.0   \n",
       "Rust                     0.0    103.0    436.0    416.0    1857.0   2794.0   \n",
       "Scala                    0.0    538.0   1602.0   1309.0    3420.0   3309.0   \n",
       "Swift                    0.0    759.0   2746.0   2368.0    6310.0   5744.0   \n",
       "Visual Basic             0.0   1701.0   3312.0   1071.0    3087.0      0.0   \n",
       "Julia                    0.0      0.0      0.0    138.0     430.0      0.0   \n",
       "VB.NET                   0.0      0.0      0.0   2273.0    5254.0      0.0   \n",
       "Lua                      0.0      0.0      0.0   1039.0    2733.0      0.0   \n",
       "Elixir                   0.0      0.0      0.0    380.0       0.0   1260.0   \n",
       "TypeScript               0.0      0.0      0.0   3488.0   13626.0  18523.0   \n",
       "Groovy                   0.0      0.0      0.0   1193.0    3373.0      0.0   \n",
       "Erlang                   0.0      0.0      0.0    281.0     886.0    777.0   \n",
       "VBA                      0.0      0.0      0.0   1574.0    3810.0   4781.0   \n",
       "Assembly                 0.0      0.0      0.0   1823.0    5760.0   5833.0   \n",
       "Smalltalk                0.0      0.0      0.0    327.0       0.0      0.0   \n",
       "Common Lisp              0.0      0.0      0.0    273.0       0.0      0.0   \n",
       "Hack                     0.0      0.0      0.0    107.0     254.0      0.0   \n",
       "Ocaml                    0.0      0.0      0.0      0.0     470.0      0.0   \n",
       "Delphi/Object Pascal     0.0      0.0      0.0      0.0    2025.0      0.0   \n",
       "Kotlin                   0.0      0.0      0.0      0.0    3508.0   5620.0   \n",
       "Bash/Shell               0.0      0.0      0.0      0.0   31172.0  31991.0   \n",
       "Cobol                    0.0      0.0      0.0      0.0     590.0      0.0   \n",
       "HTML/CSS                 0.0      0.0      0.0      0.0  104607.0  55466.0   \n",
       "WebAssembly              0.0      0.0      0.0      0.0       0.0   1015.0   \n",
       "\n",
       "                         2020  \n",
       "C                     12487.0  \n",
       "C++                   13707.0  \n",
       "C#                    18041.0  \n",
       "Java                  23074.0  \n",
       "JavaScript            38822.0  \n",
       "Objective-C            2340.0  \n",
       "PHP                   15007.0  \n",
       "Python                25287.0  \n",
       "Ruby                   4046.0  \n",
       "SQL                   31413.0  \n",
       "Other                     0.0  \n",
       "C++11                     0.0  \n",
       "CoffeeScript              0.0  \n",
       "Clojure                   0.0  \n",
       "Dart                   2280.0  \n",
       "F#                        0.0  \n",
       "Go                     5038.0  \n",
       "Haskell                1222.0  \n",
       "Matlab                    0.0  \n",
       "Perl                   1796.0  \n",
       "R                      3288.0  \n",
       "Rust                   2929.0  \n",
       "Scala                  2052.0  \n",
       "Swift                  3397.0  \n",
       "Visual Basic              0.0  \n",
       "Julia                   519.0  \n",
       "VB.NET                    0.0  \n",
       "Lua                       0.0  \n",
       "Elixir                    0.0  \n",
       "TypeScript            14578.0  \n",
       "Groovy                    0.0  \n",
       "Erlang                    0.0  \n",
       "VBA                    3499.0  \n",
       "Assembly               3553.0  \n",
       "Smalltalk                 0.0  \n",
       "Common Lisp               0.0  \n",
       "Hack                      0.0  \n",
       "Ocaml                     0.0  \n",
       "Delphi/Object Pascal      0.0  \n",
       "Kotlin                 4468.0  \n",
       "Bash/Shell            18980.0  \n",
       "Cobol                     0.0  \n",
       "HTML/CSS              36181.0  \n",
       "WebAssembly               0.0  "
      ]
     },
     "execution_count": 183,
     "metadata": {},
     "output_type": "execute_result"
    }
   ],
   "source": [
    "lang_over_years.columns = ['2014', '2015', '2016', '2017', '2018', '2019', '2020']\n",
    "lang_over_years"
   ]
  },
  {
   "cell_type": "code",
   "execution_count": 184,
   "metadata": {},
   "outputs": [],
   "source": [
    "lang_over_years.sort_values(by='2018', ascending=False, inplace=True) #sorting values for better presentation\n",
    "#Divide the list into two parts for more convinient presentation\n",
    "lang_over_years1 = lang_over_years.head(23)\n",
    "lang_over_years2 = lang_over_years.tail(22)"
   ]
  },
  {
   "cell_type": "code",
   "execution_count": 185,
   "metadata": {},
   "outputs": [
    {
     "data": {
      "text/plain": [
       "<matplotlib.axes._subplots.AxesSubplot at 0x1e7801a8dc0>"
      ]
     },
     "execution_count": 185,
     "metadata": {},
     "output_type": "execute_result"
    },
    {
     "data": {
      "image/png": "[encoded data removed]",
      "text/plain": [
       "<Figure size 1440x720 with 1 Axes>"
      ]
     },
     "metadata": {
      "needs_background": "light"
     },
     "output_type": "display_data"
    },
    {
     "data": {
      "image/png": "[encoded data removed]",
      "text/plain": [
       "<Figure size 1440x720 with 1 Axes>"
      ]
     },
     "metadata": {
      "needs_background": "light"
     },
     "output_type": "display_data"
    }
   ],
   "source": [
    "lang_over_years1.plot(kind='bar', figsize=(20,10), width=1, fontsize=15)\n",
    "lang_over_years2.plot(kind='bar', figsize=(20,10), width=1, fontsize=15)"
   ]
  },
  {
   "cell_type": "markdown",
   "metadata": {},
   "source": [
    "##### Conclusion:\n",
    "JavaScript is holding the leading position in all years (we don't count HTML/CSS as a programming lanuage). SQL is very popular, but it's not a general purpose language. The second place is shared (approximately) by Python and Java. C/C++/C# and PHP are also quite popular, but in the last 3 years it's decreasing. It's worth to mention that Bash/Shell scripting is also a frequently used skill."
   ]
  },
  {
   "cell_type": "code",
   "execution_count": null,
   "metadata": {},
   "outputs": [],
   "source": []
  }
 ],
 "metadata": {
  "kernelspec": {
   "display_name": "Python 3",
   "language": "python",
   "name": "python3"
  },
  "language_info": {
   "codemirror_mode": {
    "name": "ipython",
    "version": 3
   },
   "file_extension": ".py",
   "mimetype": "text/x-python",
   "name": "python",
   "nbconvert_exporter": "python",
   "pygments_lexer": "ipython3",
   "version": "3.8.3"
  }
 },
 "nbformat": 4,
 "nbformat_minor": 4
}
